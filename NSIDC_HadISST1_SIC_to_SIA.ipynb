{
 "cells": [
  {
   "cell_type": "markdown",
   "id": "194f9671-5def-4f12-a74a-76ab67868e56",
   "metadata": {},
   "source": [
    "# Calculate pan-Arctic sea ice area and extent from the NSIDC Climate Data Record version 4"
   ]
  },
  {
   "cell_type": "code",
   "execution_count": 1,
   "id": "2f26c10a-1e6c-4106-9382-f03e690ad599",
   "metadata": {},
   "outputs": [],
   "source": [
    "import numpy as np\n",
    "import xarray as xr\n",
    "import glob \n",
    "import datetime"
   ]
  },
  {
   "cell_type": "markdown",
   "id": "435b240b-cf1a-46c4-a4f3-7f1603179fb4",
   "metadata": {},
   "source": [
    "## Download the data\n",
    "### NSIDC"
   ]
  },
  {
   "cell_type": "markdown",
   "id": "c04d986d-718c-4d7f-ba86-656b297bc5a6",
   "metadata": {},
   "source": [
    "**Download the NSIDC NetCDF files, the monthly data until the end of the last year:** <br>\n",
    "`wget https://noaadata.apps.nsidc.org/NOAA/G02202_V4/north/aggregate/seaice_conc_monthly_nh_197811_202412_v04r00.nc` <br>\n",
    "**Download monthly data since the beinning of this year:** <br>\n",
    "`for i in $(seq -f \"%02g\" 1 12); do wget https://noaadata.apps.nsidc.org/NOAA/G10016_V2/north/monthly/seaice_conc_monthly_icdr_nh_2025${i}_f18_v02r00.nc; done`"
   ]
  },
  {
   "cell_type": "markdown",
   "id": "70f49a12-bf29-41ea-a4b9-c6845e03cd7c",
   "metadata": {},
   "source": [
    "### HadISST1"
   ]
  },
  {
   "cell_type": "markdown",
   "id": "67408c5a-68ab-4178-9b16-0529d5252f4d",
   "metadata": {},
   "source": [
    "**Download the latest 1870-01 to previous month's data** <br>\n",
    "`https://www.metoffice.gov.uk/hadobs/hadisst/data/HadISST_ice.nc.gz` <br>\n",
    "`https://www.metoffice.gov.uk/hadobs/hadisst/data/HadISST1_ICE_update.nc.gz`"
   ]
  },
  {
   "cell_type": "code",
   "execution_count": 3,
   "id": "30b0f8fe-2c77-4f0e-95ac-dcaf36ae057e",
   "metadata": {},
   "outputs": [],
   "source": [
    "data_path = '/glade/work/cwpowell/Data/Observations/'"
   ]
  },
  {
   "cell_type": "markdown",
   "id": "a8ca8b3c-16df-4825-a857-ec14b486a9f6",
   "metadata": {},
   "source": [
    "## Open the data files for NSIDC"
   ]
  },
  {
   "cell_type": "code",
   "execution_count": 4,
   "id": "4f023237-3680-4875-8e67-2e76271c288d",
   "metadata": {},
   "outputs": [
    {
     "name": "stderr",
     "output_type": "stream",
     "text": [
      "/glade/u/ssg/ch/usr/jupyterhub/envs/cmip6-201910a/lib/python3.7/site-packages/xarray/conventions.py:494: SerializationWarning: variable 'cdr_seaice_conc_monthly' has _Unsigned attribute but is not of integer type. Ignoring attribute.\n",
      "  use_cftime=use_cftime,\n",
      "/glade/u/ssg/ch/usr/jupyterhub/envs/cmip6-201910a/lib/python3.7/site-packages/xarray/conventions.py:494: SerializationWarning: variable 'melt_onset_day_cdr_seaice_conc_monthly' has _Unsigned attribute but is not of integer type. Ignoring attribute.\n",
      "  use_cftime=use_cftime,\n",
      "/glade/u/ssg/ch/usr/jupyterhub/envs/cmip6-201910a/lib/python3.7/site-packages/xarray/conventions.py:494: SerializationWarning: variable 'nsidc_bt_seaice_conc_monthly' has _Unsigned attribute but is not of integer type. Ignoring attribute.\n",
      "  use_cftime=use_cftime,\n",
      "/glade/u/ssg/ch/usr/jupyterhub/envs/cmip6-201910a/lib/python3.7/site-packages/xarray/conventions.py:494: SerializationWarning: variable 'nsidc_nt_seaice_conc_monthly' has _Unsigned attribute but is not of integer type. Ignoring attribute.\n",
      "  use_cftime=use_cftime,\n",
      "/glade/u/ssg/ch/usr/jupyterhub/envs/cmip6-201910a/lib/python3.7/site-packages/xarray/conventions.py:494: SerializationWarning: variable 'qa_of_cdr_seaice_conc_monthly' has _Unsigned attribute but is not of integer type. Ignoring attribute.\n",
      "  use_cftime=use_cftime,\n"
     ]
    }
   ],
   "source": [
    "CDR_v4_years = xr.open_dataset(data_path+'seaice_conc_monthly_nh_197811_202412_v04r00.nc')"
   ]
  },
  {
   "cell_type": "code",
   "execution_count": 5,
   "id": "07b4dabe-c441-4844-abbc-9e9bb9f07122",
   "metadata": {},
   "outputs": [],
   "source": [
    "#only run this cell if need to append individual months\n",
    "CDR_v4_all_months = []\n",
    "for month_ in np.arange(1,13):\n",
    "    CDR_v4_month = xr.open_dataset(data_path+\n",
    "        f'seaice_conc_monthly_icdr_nh_2023{str(month_).zfill(2)}_f18_v02r00.nc')\n",
    "    CDR_v4_month['latitude'] = CDR_v4_years['latitude']\n",
    "    CDR_v4_month['longitude'] = CDR_v4_years['longitude']\n",
    "    CDR_v4_all_months.append(CDR_v4_month)\n",
    "\n",
    "CDR_v4_all_months = xr.concat((CDR_v4_all_months),dim='tdim')\n",
    "CDR_v4 = xr.concat((CDR_v4_years, CDR_v4_all_months),dim='tdim')\n",
    "\n",
    "CDR_v4_all_months.close()\n",
    "CDR_v4_years.close()"
   ]
  },
  {
   "cell_type": "code",
   "execution_count": 6,
   "id": "58144185-5351-4638-8cac-dff06e87a9bd",
   "metadata": {},
   "outputs": [],
   "source": [
    "#run this cell if only whole years are needed\n",
    "CDR_v4 = CDR_v4_years"
   ]
  },
  {
   "cell_type": "code",
   "execution_count": 7,
   "id": "46af9a2c-2530-4a27-a4fc-c8fbad76aa47",
   "metadata": {},
   "outputs": [],
   "source": [
    "#rename dimension so they match coordinates\n",
    "CDR_v4 = CDR_v4.rename({'tdim':'time', 'y':'ygrid', 'x':'xgrid'}) \n",
    "\n",
    "#sort by time dimension, files were loaded in a random order\n",
    "CDR_v4 = CDR_v4.sortby(CDR_v4['time']) "
   ]
  },
  {
   "cell_type": "code",
   "execution_count": 8,
   "id": "9e7bc12a-c3e4-4a3e-b6ca-17d9d114c719",
   "metadata": {},
   "outputs": [],
   "source": [
    "#set all non-sea ice to np.nan, exclude land/coastal grid points - values >2.5\n",
    "#want to include interpolated pole hole values, do not mask that out either\n",
    "CDR = CDR_v4['cdr_seaice_conc_monthly'].where(\n",
    "    CDR_v4['cdr_seaice_conc_monthly']<1.1)\n",
    "\n",
    "BT  = CDR_v4['nsidc_bt_seaice_conc_monthly'].where(\n",
    "    CDR_v4['nsidc_bt_seaice_conc_monthly']<1.1) \n",
    "\n",
    "NT  = CDR_v4['nsidc_nt_seaice_conc_monthly'].where(\n",
    "    CDR_v4['nsidc_nt_seaice_conc_monthly']<1.1) \n",
    "\n",
    "CDR_v4.close()"
   ]
  },
  {
   "cell_type": "markdown",
   "id": "68b7d785-cee0-41cf-a038-20fd65a66322",
   "metadata": {},
   "source": [
    "**Optional to fill in missing values for continous time series for January, July and December**"
   ]
  },
  {
   "cell_type": "code",
   "execution_count": 9,
   "id": "b67056cf-f1c8-423d-bfb3-faf100595e39",
   "metadata": {},
   "outputs": [],
   "source": [
    "#for filling values of 1984-07, 1987-12 and 1988-01 the following years (1985-07, 1988-12 and 1989-01)\n",
    "#were found to be closest to the year with the missing values for other months of the year\n",
    "filled = []\n",
    "\n",
    "for data_var in [CDR, BT, NT]: #loop through all 3 datasets\n",
    "    \n",
    "    CDR_1984_07 = data_var.sel(time='1985-07').copy()\n",
    "    CDR_1984_07['time'] = [np.datetime64('1984-07')]\n",
    "    \n",
    "    CDR_1987_12 = data_var.sel(time='1988-12').copy()\n",
    "    CDR_1987_12['time'] = [np.datetime64('1987-12')]\n",
    "    \n",
    "    CDR_1988_01 = data_var.sel(time='1989-01').copy()\n",
    "    CDR_1988_01['time'] = [np.datetime64('1988-01')]\n",
    "\n",
    "    filled.append(\n",
    "        xr.concat(\n",
    "            (data_var.sel(time=slice('1979-01','1984-06')), \n",
    "             CDR_1984_07, data_var.sel(time=slice('1984-08','1987-11')), \n",
    "             CDR_1987_12, CDR_1988_01, \n",
    "             data_var.sel(time=slice('1988-02','2024-12'))\n",
    "            ), dim='time',\n",
    "        )\n",
    "    )"
   ]
  },
  {
   "cell_type": "code",
   "execution_count": 10,
   "id": "d2641861-d673-4ddb-ac8f-9441c3f75780",
   "metadata": {},
   "outputs": [],
   "source": [
    "CDR_filled = xr.Dataset({'CDR':filled[0], 'BT':filled[1], 'NT':filled[2]})\n",
    "\n",
    "CDR_filled.attrs = {\n",
    "    'Description': 'Arctic sea ice concentration (SIC) from the Climate Data '\\\n",
    "        'Record (CDR), NASA Team (NT) and NASA Boostrap (BT). All months '\\\n",
    "        '1979-2024, missing data (1984-07, 1987-12, 1988-01) filled with data '\\\n",
    "        'from the following years (1985-07, 1988-12, 1989-01) as the following '\\\n",
    "        'year SIA is closer than the preceeding year SIA for the months with '\\\n",
    "        'data adjacent to the missing months.', \n",
    "    'Units'      : 'million square km',\n",
    "    'Timestamp'  : str(datetime.datetime.utcnow().strftime(\n",
    "        \"%H:%M UTC %a %Y-%m-%d\")),\n",
    "    'Data source': 'NOAA/NSIDC Climate Data Record of Passive Microwave Sea '\\\n",
    "        'Ice Concentration, Version 4, doi:10.7265/efmz-2t65.',\n",
    "}\n",
    "\n",
    "CDR_filled.to_netcdf(data_path+'NSIDC_CDR_v4_SIC_197901-202412_filled.nc')\n",
    "# CDR_filled = xr.open_dataset(data_path+'NSIDC_CDR_v4_SIC_197901-202309_filled.nc')"
   ]
  },
  {
   "cell_type": "markdown",
   "id": "8cee7200-15c8-4287-baf2-05c1a3517b17",
   "metadata": {},
   "source": [
    "## Calculate pan-Arctic SIA and SIE"
   ]
  },
  {
   "cell_type": "code",
   "execution_count": 11,
   "id": "16fe40fb-d7c3-46e9-ae89-c89d97032724",
   "metadata": {},
   "outputs": [],
   "source": [
    "#calculate SIA\n",
    "CDR_SIA = CDR_filled.sum('xgrid').sum('ygrid')*625/1e6 #each grid cell is 25x25 km\n",
    "\n",
    "#calculate SIE\n",
    "CDR_SIE = {}\n",
    "\n",
    "for var_ in ['CDR', 'BT', 'NT']:\n",
    "    ones_zeros = np.where(CDR_filled[var_]>0.15,\n",
    "                          np.ones(np.shape(CDR_filled[var_])), \n",
    "                          np.zeros(np.shape(CDR_filled[var_])))\n",
    "    \n",
    "    CDR_SIE[var_] = np.sum(ones_zeros, axis=(1,2))*625/1e6"
   ]
  },
  {
   "cell_type": "code",
   "execution_count": 12,
   "id": "3bab11dc-b6bd-43dc-bd7e-2c902cf159f8",
   "metadata": {},
   "outputs": [],
   "source": [
    "CDR_SIA_SIE = xr.Dataset(\n",
    "    data_vars = {\n",
    "        'CDR_SIA':(('time'), CDR_SIA['CDR']),\n",
    "        'BT_SIA':(('time'), CDR_SIA['BT']),\n",
    "        'NT_SIA':(('time'), CDR_SIA['NT']),\n",
    "        'CDR_SIE':(('time'), CDR_SIE['CDR']),\n",
    "        'BT_SIE':(('time'), CDR_SIE['BT']),\n",
    "        'NT_SIE':(('time'), CDR_SIE['NT'])\n",
    "    },\n",
    "     coords = {'time': CDR_SIA['time']}\n",
    ")\n",
    "\n",
    "CDR_SIA_SIE.attrs = {\n",
    "    'Description': 'Arctic sea ice area (SIA) and sea ice extent (SIE) from '\\\n",
    "         'the Climate Data Record (CDR), NASA Team (NT) and NASA Boostrap (BT)'\\\n",
    "         '. All months 1979-2024, missing data (1984-07, 1987-12, 1988-01) '\\\n",
    "         'are filled with the following year (1985-07, 1988-12, 1989-01).', \n",
    "     'Units'      : 'million square km',\n",
    "     'Timestamp'  : str(datetime.datetime.utcnow().strftime(\n",
    "         \"%H:%M UTC %a %Y-%m-%d\")),\n",
    "     'Data source': 'NOAA/NSIDC Climate Data Record of Passive Microwave Sea '\\\n",
    "         'Ice Concentration, Version 4, doi:10.7265/efmz-2t65.',\n",
    "}\n",
    "\n",
    "CDR_SIA_SIE.to_netcdf(data_path+'NSIDC_CDR_v4_SIA_SIE_197901-202412_filled.nc')"
   ]
  },
  {
   "cell_type": "markdown",
   "id": "0b360f03-299d-4011-aef1-56b35fd3b6b8",
   "metadata": {},
   "source": [
    "## HadISST1"
   ]
  },
  {
   "cell_type": "code",
   "execution_count": 13,
   "id": "197ec29e-92a5-46d1-acb6-d6f411d2186a",
   "metadata": {},
   "outputs": [],
   "source": [
    "HadISST1 = xr.open_dataset(data_path+'HadISST_ice_187001_202502.nc',decode_times=False)"
   ]
  },
  {
   "cell_type": "code",
   "execution_count": 15,
   "id": "6d597b66-4652-4977-bab4-adf682d9c047",
   "metadata": {},
   "outputs": [],
   "source": [
    "HadISST1['time'] = np.arange(\n",
    "    np.datetime64('1870-01','M'), np.datetime64('2025-02','M'),\n",
    "    np.timedelta64(1,'M'))"
   ]
  },
  {
   "cell_type": "code",
   "execution_count": 16,
   "id": "5a3e76b7-cbd4-4ea1-a6b2-6944e95695f3",
   "metadata": {},
   "outputs": [],
   "source": [
    "#select 1979-2020 and the area above 30N\n",
    "HadISST1_30N = HadISST1['sic'].where(HadISST1['latitude']>30, drop=True) \n",
    "\n",
    "HadISST1_30N.to_netcdf(data_path+'HadISST1_NH_187001-202502.nc') #save to NetCDF"
   ]
  },
  {
   "cell_type": "code",
   "execution_count": 17,
   "id": "af3a327e-0a62-4090-a5e5-26c25aec0e62",
   "metadata": {},
   "outputs": [],
   "source": [
    "#fill the spurious data with the most appropriate nearby year's data\n",
    "HadISST1_2009_03 = HadISST1_30N.sel(time='2007-03').copy()\n",
    "HadISST1_2009_03['time'] = xr.DataArray(\n",
    "    data = np.datetime64('2009-03','M'), \n",
    "    coords={'time': [np.datetime64('2009-03','M')]}, dims=['time'])\n",
    "\n",
    "HadISST1_2009_04 = HadISST1_30N.sel(time='2008-04').copy()\n",
    "HadISST1_2009_04['time'] = xr.DataArray(\n",
    "    data = np.datetime64('2009-04','M'), \n",
    "    coords={'time': [np.datetime64('2009-04','M')]}, dims=['time'])\n",
    "\n",
    "HadISST1_30N_correct = xr.concat(\n",
    "    (HadISST1_30N.sel(time=slice('1870','2009-02')), \n",
    "     HadISST1_2009_03, HadISST1_2009_04, \n",
    "     HadISST1_30N.sel(time=slice('2009-05','2025'))), \n",
    "    dim='time'\n",
    ")\n",
    "\n",
    "attrs_copy = HadISST1_30N.attrs.copy()\n",
    "attrs_copy['Description'] = 'HadISST1 SIC data with 2007-03 replaced with '\\\n",
    "    '2009-03 and 2008-04 replaced with 2009-04 data due to anomalies.'\n",
    "HadISST1_30N.attrs = attrs_copy\n",
    "\n",
    "#save this corrected data to NetCDF\n",
    "HadISST1_30N_correct.to_netcdf(data_path+\n",
    "    'HadISST1_NH_187001-202502_corrected.nc')\n"
   ]
  },
  {
   "cell_type": "code",
   "execution_count": 18,
   "id": "49f094f3-5c8d-4631-b1d7-6bd3213a378e",
   "metadata": {},
   "outputs": [],
   "source": [
    "#open area file created from: cdo gridarea -selgrid,2 HadISST_ice.nc HadISST_ice_area.nc\n",
    "HadISST1_areas = xr.open_dataset(data_path+'HadISST1_gridarea.nc')\n",
    "HadISST1_areas_NH = HadISST1_areas['cell_area'].where(\n",
    "    HadISST1_areas['latitude']>30,drop=True) #select >30N"
   ]
  },
  {
   "cell_type": "code",
   "execution_count": 19,
   "id": "c4857815-d504-4764-8150-3f0edd60afa6",
   "metadata": {},
   "outputs": [],
   "source": [
    "#compute SIA and SIE\n",
    "NH_SIA = (HadISST1_30N_correct * HadISST1_areas_NH / 1e12).sum('latitude').sum('longitude') \n",
    "NH_SIE = HadISST1_areas_NH.where(\n",
    "    HadISST1_30N_correct>=0.15,0).sum('latitude').sum('longitude') / 1e12\n",
    "\n",
    "#save calculations to NetCDF\n",
    "HadISST1_SIA_SIE = xr.Dataset({'SIA' : NH_SIA, 'SIE' : NH_SIE})\n",
    "\n",
    "HadISST1_SIA_SIE.attrs = {\n",
    "    'Description': 'Arctic sea ice area (SIA) and sea ice extent (SIE) from '\\\n",
    "        'HadISST1 for all months 187001-202502, calculated using a grid area '\\\n",
    "        'file from CDO. Note large negative SIE and SIA anomalies for 2009-03 '\\\n",
    "        'and 2009-04 are filled with 2007-03 and 2008-04 values.', \n",
    "    'Units'      : 'million square km',\n",
    "    'Timestamp'  : str(datetime.datetime.utcnow().strftime(\n",
    "        \"%H:%M UTC %a %Y-%m-%d\")),\n",
    "    'Data source': 'Hadley Centre Sea Ice and Sea Surface Temperature data set'\\\n",
    "        '(HadISST), doi:10.1029/2002JD002670',\n",
    "}\n",
    "\n",
    "HadISST1_SIA_SIE.to_netcdf(data_path+'HadISST1_SIA_SIE_187001-202502_filled.nc')"
   ]
  }
 ],
 "metadata": {
  "kernelspec": {
   "display_name": "CMIP6 2019.10a",
   "language": "python",
   "name": "cmip6-201910a"
  },
  "language_info": {
   "codemirror_mode": {
    "name": "ipython",
    "version": 3
   },
   "file_extension": ".py",
   "mimetype": "text/x-python",
   "name": "python",
   "nbconvert_exporter": "python",
   "pygments_lexer": "ipython3",
   "version": "3.7.3"
  }
 },
 "nbformat": 4,
 "nbformat_minor": 5
}
