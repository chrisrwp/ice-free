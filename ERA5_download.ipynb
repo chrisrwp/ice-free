{
 "cells": [
  {
   "cell_type": "markdown",
   "id": "0f0fee92-b751-40bb-b012-d5f87442d8ff",
   "metadata": {},
   "source": [
    "# Download ERA5 geopotential heights for 200 hPa\n",
    "**N.B. must divide by 9.80665 to get geopotential height!**"
   ]
  },
  {
   "cell_type": "code",
   "execution_count": null,
   "id": "7bed22e2-0240-4e6b-9326-33f4497bad54",
   "metadata": {},
   "outputs": [],
   "source": [
    "import cdsapi"
   ]
  },
  {
   "cell_type": "code",
   "execution_count": 8,
   "id": "0e81c12f-56b5-4738-9ff1-71033e3f0cc8",
   "metadata": {},
   "outputs": [
    {
     "name": "stderr",
     "output_type": "stream",
     "text": [
      "2023-11-17 16:43:14,129 INFO Welcome to the CDS\n",
      "2023-11-17 16:43:14,131 INFO Sending request to https://cds.climate.copernicus.eu/api/v2/resources/reanalysis-era5-pressure-levels-monthly-means\n",
      "2023-11-17 16:43:14,290 INFO Request is queued\n",
      "2023-11-17 16:43:15,440 INFO Request is running\n",
      "2023-11-17 16:44:30,582 INFO Request is completed\n",
      "2023-11-17 16:44:30,583 INFO Downloading https://download-0021.copernicus-climate.eu/cache-compute-0021/cache/data7/adaptor.mars.internal-1700264658.754694-3492-14-729b511c-b9b7-441a-be95-d8cdb50df66b.nc to /glade/scratch/cwpowell/zg_obs/ERA5_geopotential_height_1950_2023_JJA_70_90N.nc (49.4M)\n",
      "2023-11-17 16:44:35,423 INFO Download rate 10.2M/s  \n"
     ]
    },
    {
     "data": {
      "text/plain": [
       "Result(content_length=51796244,content_type=application/x-netcdf,location=https://download-0021.copernicus-climate.eu/cache-compute-0021/cache/data7/adaptor.mars.internal-1700264658.754694-3492-14-729b511c-b9b7-441a-be95-d8cdb50df66b.nc)"
      ]
     },
     "execution_count": 8,
     "metadata": {},
     "output_type": "execute_result"
    }
   ],
   "source": [
    "c = cdsapi.Client()\n",
    "\n",
    "c.retrieve(\n",
    "    'reanalysis-era5-pressure-levels-monthly-means',\n",
    "    {\n",
    "        'format': 'netcdf',\n",
    "        'product_type': 'monthly_averaged_reanalysis',\n",
    "        'pressure_level': '200',\n",
    "        'variable': 'geopotential',\n",
    "        'year': [\n",
    "            '1950', '1951', '1952',\n",
    "            '1953', '1954', '1955',\n",
    "            '1956', '1957', '1958',\n",
    "            '1959', '1960', '1961',\n",
    "            '1962', '1963', '1964',\n",
    "            '1965', '1966', '1967',\n",
    "            '1968', '1969', '1970',\n",
    "            '1971', '1972', '1973',\n",
    "            '1974', '1975', '1976',\n",
    "            '1977', '1978', '1979',\n",
    "            '1980', '1981', '1982',\n",
    "            '1983', '1984', '1985',\n",
    "            '1986', '1987', '1988',\n",
    "            '1989', '1990', '1991',\n",
    "            '1992', '1993', '1994',\n",
    "            '1995', '1996', '1997',\n",
    "            '1998', '1999', '2000',\n",
    "            '2001', '2002', '2003',\n",
    "            '2004', '2005', '2006',\n",
    "            '2007', '2008', '2009',\n",
    "            '2010', '2011', '2012',\n",
    "            '2013', '2014', '2015',\n",
    "            '2016', '2017', '2018',\n",
    "            '2019', '2020', '2021',\n",
    "            '2022', '2023',\n",
    "        ],\n",
    "        'month': [\n",
    "            '06', '07', '08',\n",
    "        ],\n",
    "        'time': '00:00',\n",
    "        'area': [\n",
    "            90, -180, 70,\n",
    "            180,\n",
    "        ],\n",
    "    },\n",
    "    '/glade/scratch/cwpowell/zg_obs/ERA5_geopotential_height_1950_2023_JJA_70_90N.nc')"
   ]
  }
 ],
 "metadata": {
  "kernelspec": {
   "display_name": "NPL 2023b",
   "language": "python",
   "name": "npl-2023b"
  },
  "language_info": {
   "codemirror_mode": {
    "name": "ipython",
    "version": 3
   },
   "file_extension": ".py",
   "mimetype": "text/x-python",
   "name": "python",
   "nbconvert_exporter": "python",
   "pygments_lexer": "ipython3",
   "version": "3.10.12"
  }
 },
 "nbformat": 4,
 "nbformat_minor": 5
}
